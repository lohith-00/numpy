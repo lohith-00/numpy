{
 "cells": [
  {
   "cell_type": "code",
   "execution_count": 5,
   "id": "5d46faae-8805-48c4-ad3d-da3aa5ae5b9b",
   "metadata": {},
   "outputs": [
    {
     "name": "stdout",
     "output_type": "stream",
     "text": [
      "[[ 10  20  30  40  50]\n",
      " [ 60  70  80  90 100]\n",
      " [110 120 130 140 150]]\n",
      "ones array : \n",
      "[[1. 1. 1.]\n",
      " [1. 1. 1.]\n",
      " [1. 1. 1.]]\n",
      "zero array :\n",
      "[[0. 0.]\n",
      " [0. 0.]]\n",
      "Random array : \n",
      "[[0.94201879 0.12073601]\n",
      " [0.80479158 0.24137889]]\n",
      "array with specific value : \n",
      "[[5 5 5 5]\n",
      " [5 5 5 5]\n",
      " [5 5 5 5]\n",
      " [5 5 5 5]]\n",
      "Range array : \n",
      "[0 2 4 6 8]\n"
     ]
    }
   ],
   "source": [
    "import numpy as np\n",
    "#creating a numpy array(2_D array)\n",
    "arr = np.array([[10,20,30,40,50],[60,70,80,90,100],[110,120,130,140,150]])\n",
    "print(arr)\n",
    "#basic operations of numpy array\n",
    "one = np.ones((3,3))#2_D array with only ones\n",
    "print(\"ones array : \")\n",
    "print(one)\n",
    "zero = np.zeros((2,2)) #2_D array with only zeros\n",
    "print(\"zero array :\")\n",
    "print(zero)\n",
    "random_arr = np.random.random((2,2))#Creates an array with random values with the mentioned dimension in the paranthesis \n",
    "print(\"Random array : \")\n",
    "print(random_arr)\n",
    "value = np.full((4,4),5)#creates an array with specific value(here the value is 4 and the dimensions are 3x3\n",
    "print(\"array with specific value : \")\n",
    "print(value)\n",
    "array_range = np.arange(0,10,2)#creates an array within a range(the values provided in the paranthesis indicates start,stop,step\n",
    "print(\"Range array : \")\n",
    "print(array_range)"
   ]
  },
  {
   "cell_type": "code",
   "execution_count": 17,
   "id": "0f04c65c-2ccc-4cc1-99bf-4d436253b821",
   "metadata": {},
   "outputs": [
    {
     "name": "stdout",
     "output_type": "stream",
     "text": [
      "Reshaped array is : \n",
      "[[ 10  20  30]\n",
      " [ 40  50  60]\n",
      " [ 70  80  90]\n",
      " [100 110 120]\n",
      " [130 140 150]]\n",
      "sliced array is : \n",
      "[[40]\n",
      " [90]]\n",
      "the element at the position (1,3) in the array is :  40\n",
      "addition of two arrays is : \n",
      " [[ 21  32  43  54  65]\n",
      " [ 76  87  98 109 120]\n",
      " [131 142 153 164 175]]\n",
      "subtraction of two arrays is : \n",
      " [[ -1   8  17  26  35]\n",
      " [ 44  53  62  71  80]\n",
      " [ 89  98 107 116 125]]\n",
      "Element multiplication of two arrays is : \n",
      " [[ 110  240  390  560  750]\n",
      " [ 960 1190 1440 1710 2000]\n",
      " [2310 2640 2990 3360 3750]]\n",
      "Element division of two arrays is : \n",
      " [[0.90909091 1.66666667 2.30769231 2.85714286 3.33333333]\n",
      " [3.75       4.11764706 4.44444444 4.73684211 5.        ]\n",
      " [5.23809524 5.45454545 5.65217391 5.83333333 6.        ]]\n",
      "squares of the arr : \n",
      " [[121 144 169 196 225]\n",
      " [256 289 324 361 400]\n",
      " [441 484 529 576 625]]\n",
      "square-roots fo the arr : \n",
      " [[3.31662479 3.46410162 3.60555128 3.74165739 3.87298335]\n",
      " [4.         4.12310563 4.24264069 4.35889894 4.47213595]\n",
      " [4.58257569 4.69041576 4.79583152 4.89897949 5.        ]]\n"
     ]
    }
   ],
   "source": [
    "#ARRAY RESHAPING\n",
    "print(\"Reshaped array is : \")\n",
    "reshape = arr.reshape(5,3)#reshapes the 3x5 array into 5x3 array\n",
    "print(reshape)\n",
    "#ARRAY SLICING\n",
    "print(\"sliced array is : \")\n",
    "print(arr[0:2,3:4])#Slices the 2_D array\n",
    "#ARRAY INDEXING\n",
    "element = arr[0,3]#stores the element at the mentioned position\n",
    "print(\"the element at the position (1,3) in the array is : \", element)#prints the element value\n",
    "#MATHEMATICAL OPERARTIONS IN NUMPY\n",
    "array = np.array([[11,12,13,14,15],[16,17,18,19,20],[21,22,23,24,25]])\n",
    "sum = np.add(arr,array) # addition\n",
    "difference = np.subtract(arr,array) #subtraction\n",
    "product = np.multiply(arr,array) #multiplication\n",
    "quotient = np.divide(arr,array) #division\n",
    "print(\"addition of two arrays is : \\n\",sum)\n",
    "print(\"subtraction of two arrays is : \\n\",difference)\n",
    "print(\"Element multiplication of two arrays is : \\n\",product)\n",
    "print(\"Element division of two arrays is : \\n\",quotient)\n",
    "sqr = np.power(array,2) #squares of the first arr\n",
    "sqrts = np.sqrt(array) #square-rooots of the first arr\n",
    "print(\"squares of the arr : \\n\", sqr)\n",
    "print(\"square-roots fo the arr : \\n\",sqrts)"
   ]
  },
  {
   "cell_type": "code",
   "execution_count": 22,
   "id": "972554ee-4001-48a9-9abf-54a20a04c74e",
   "metadata": {},
   "outputs": [
    {
     "name": "stdout",
     "output_type": "stream",
     "text": [
      "The sum of elements in the array is  : 270\n",
      "The mean of  elements in the array is :  18.0\n",
      "The median of  elements in the array is :  18.0\n",
      "The variance of  elements in the array is : 18.666666666666668\n",
      "The standard deviation of  elements in the array is :  4.320493798938574\n",
      "The minimum value is :  11\n",
      "The maximum value  is :  25\n",
      "\n",
      " GROUPING\n",
      "group_1:  [21 22 23 24 25]\n",
      "group_2:  [11 12 13 14 15 16 17 18 19 20]\n"
     ]
    }
   ],
   "source": [
    "#DATA AGGREGATION\n",
    "sum = np.sum(array)       # Sum of all elements\n",
    "mean = np.mean(array)      # Mean  of all elements\n",
    "median = np.median(array)    # Median value\n",
    "variance = np.var(array)       # Variance of elements\n",
    "standard_deviation = np.std(array)       # Standard deviation\n",
    "min = np.min(array)       # Minimum value\n",
    "max = np.max(array)       # Maximum value\n",
    "print(\"The sum of elements in the array is  :\" , sum)\n",
    "print(\"The mean of  elements in the array is : \",mean)\n",
    "print(\"The median of  elements in the array is : \",median)\n",
    "print(\"The variance of  elements in the array is :\",variance)\n",
    "print(\"The standard deviation of  elements in the array is : \",standard_deviation)\n",
    "print(\"The minimum value is : \",min)\n",
    "print(\"The maximum value  is : \",max)\n",
    "print(\"\\n GROUPING\")\n",
    "grp_1= array[array > 20]\n",
    "grp_2 = array[array<= 20]\n",
    "print(\"group_1: \", grp_1)\n",
    "print(\"group_2: \", grp_2)"
   ]
  },
  {
   "cell_type": "code",
   "execution_count": 29,
   "id": "c383f43a-37a5-46ba-b1c8-ea77db2a8bcf",
   "metadata": {},
   "outputs": [
    {
     "name": "stdout",
     "output_type": "stream",
     "text": [
      "Correlation Coefficient Matrix:\n",
      " [[1.         0.99875036]\n",
      " [0.99875036 1.        ]]\n",
      "\n",
      " 75th percentile is : 21.5\n",
      "\n",
      "Outliers : \n",
      " [-3.30129873  3.57793915 -3.01397701  3.31235349  3.40668929 -3.10425338\n",
      " -3.22955265 -2.9929563 ]\n"
     ]
    }
   ],
   "source": [
    "#Correlation\n",
    "#random arrays\n",
    "array1 = np.random.rand(1000000)\n",
    "array2 = 2 * array1 + np.random.rand(1000000) * 0.1 \n",
    "correlation_matrix = np.corrcoef(array1, array2)\n",
    "print(\"Correlation Coefficient Matrix:\\n\", correlation_matrix)\n",
    "#CALCULATING PERCENTILES\n",
    "per_75 = np.percentile(array, 75)\n",
    "print(\"\\n 75th percentile is :\",per_75)\n",
    "#IDENTIFYING OUTLIERS\n",
    "arr_1 = np.random.randn(2000)#random array\n",
    "z_test = np.abs((arr_1 - np.mean(arr_1)) / np.std(arr_1))#calculates the z-test\n",
    "outliers = arr_1[z_test > 3]\n",
    "print(\"\\nOutliers : \\n\",outliers)"
   ]
  },
  {
   "cell_type": "markdown",
   "id": "650c8acb-8824-4f03-be00-c4dfbe581f81",
   "metadata": {},
   "source": []
  }
 ],
 "metadata": {
  "kernelspec": {
   "display_name": "Python 3 (ipykernel)",
   "language": "python",
   "name": "python3"
  },
  "language_info": {
   "codemirror_mode": {
    "name": "ipython",
    "version": 3
   },
   "file_extension": ".py",
   "mimetype": "text/x-python",
   "name": "python",
   "nbconvert_exporter": "python",
   "pygments_lexer": "ipython3",
   "version": "3.12.5"
  }
 },
 "nbformat": 4,
 "nbformat_minor": 5
}
